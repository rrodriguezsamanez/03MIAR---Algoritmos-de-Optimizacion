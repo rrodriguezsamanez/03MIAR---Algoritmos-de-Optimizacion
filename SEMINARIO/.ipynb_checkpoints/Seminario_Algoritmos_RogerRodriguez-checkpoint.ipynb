{
 "cells": [
  {
   "cell_type": "markdown",
   "metadata": {
    "id": "hVbXYX-RfPWh"
   },
   "source": [
    "# Algoritmos de optimización - Seminario<br>\n",
    "Nombre y Apellidos: Roger Hans Rodriguez Samanez   <br>\n",
    "Url: https://github.com/.../03MAIR---Algoritmos-de-Optimizacion---2019/tree/master/SEMINARIO<br>\n",
    "Problema:\n",
    "\n",
    "(*) La respuesta es obligatoria\n",
    "                                  "
   ]
  },
  {
   "attachments": {},
   "cell_type": "markdown",
   "metadata": {
    "id": "AiskKkzZfy4e"
   },
   "source": [
    "## Combinar cifras y operaciones\n",
    "\n",
    "- El problema consiste en analizar el siguiente problema y diseñar un algoritmo que lo resuelva\n",
    "- Disponemos de las 9 cifras del 1 al 9 (excluimos el 0) y de los 4 signos básicos de las operaciones fundamentales: suma(+), resta(-), multiplicación(*) y división(/).\n",
    "- Debemos combinarlos alternativamente sin repetir ninguno de ellos para obtener una cantidad dada. Un ejemplo sería para obtener el 4:\n",
    "$$4+2-6/3*1=4$$\n",
    "- Debe analizarse el problema para encontrar todos los **valores enteros** posibles planteando las siguientes cuestiones:  \n",
    "  A) ¿Qué valor **máximo** y **mínimo** se pueden obtener según las condiciones del problema?  \n",
    "  B) ¿Es posible encontrar **todos los valores enteros posibles** entre dicho mínimo y máximo?\n",
    "\n",
    "- Nota: Es posible usar la función de Python `eval` para evaluar una expresión:\n",
    "\n",
    "```python\n",
    "expresion = \"4-2+6/3*1\"\n",
    "print(eval(expresion))  #4\n",
    "```"
   ]
  },
  {
   "cell_type": "markdown",
   "metadata": {},
   "source": [
    "## A) ¿Qué valor **máximo** y **mínimo** se pueden obtener según las condiciones del problema?  \n",
    "Usaré fuerza bruta para poder explorar todo el espacio de soluciones. Este algoritmo nos permite para calcular el valor más alto y más bajo posible dadas las restricciones y poder responder a las preguntas planteadas:"
   ]
  },
  {
   "cell_type": "code",
   "execution_count": 10,
   "metadata": {},
   "outputs": [
    {
     "name": "stdout",
     "output_type": "stream",
     "text": [
      "Resultados del algoritmo\n",
      "---------------------------\n",
      "Total de expresiones evaluadas: 362880\n",
      "Total de expresiones con resultado entero: 90000\n",
      "Total de valores enteros únicos obtenidos: 147\n",
      "Valor mínimo alcanzado: -69\n",
      "Valor máximo alcanzado: 77\n",
      "¿Rango completo entre mínimo y máximo?: Sí\n"
     ]
    }
   ],
   "source": [
    "from itertools import combinations, permutations\n",
    "from sympy import sympify\n",
    "\n",
    "# Parámetros base\n",
    "digitos = '123456789'\n",
    "operadores = ['+', '-', '*', '/']\n",
    "\n",
    "# Resultados y contadores\n",
    "resultados_enteros = {}          # Diccionario: resultado entero → expresiones que lo generan\n",
    "expresiones_validas = []         # Lista de (expresión, resultado) válidos\n",
    "total_evaluadas = 0              # Total de expresiones generadas\n",
    "\n",
    "# Evaluación de todas las expresiones posibles\n",
    "for comb in combinations(digitos, 5):\n",
    "    for perm_digitos in permutations(comb):\n",
    "        for perm_ops in permutations(operadores):\n",
    "            expr = perm_digitos[0]\n",
    "            for i in range(4):\n",
    "                expr += f\" {perm_ops[i]} {perm_digitos[i + 1]}\"\n",
    "            try:\n",
    "                resultado = sympify(expr)\n",
    "                total_evaluadas += 1\n",
    "                if float(resultado).is_integer():\n",
    "                    valor = int(resultado)\n",
    "                    expresiones_validas.append((expr, valor))\n",
    "                    if valor not in resultados_enteros:\n",
    "                        resultados_enteros[valor] = []\n",
    "                    resultados_enteros[valor].append(expr)\n",
    "            except:\n",
    "                continue\n",
    "\n",
    "# Cálculo de mínimos, máximos y cobertura\n",
    "valores_encontrados = set(resultados_enteros.keys())\n",
    "minimo = min(valores_encontrados)\n",
    "maximo = max(valores_encontrados)\n",
    "rango_completo = set(range(minimo, maximo + 1))\n",
    "faltantes = sorted(list(rango_completo - valores_encontrados))\n",
    "\n",
    "# Resultados finales\n",
    "print(\"Resultados del algoritmo\")\n",
    "print(\"---------------------------\")\n",
    "print(f\"Total de expresiones evaluadas: {total_evaluadas}\")\n",
    "print(f\"Total de expresiones con resultado entero: {len(expresiones_validas)}\")\n",
    "print(f\"Total de valores enteros únicos obtenidos: {len(valores_encontrados)}\")\n",
    "print(f\"Valor mínimo alcanzado: {minimo}\")\n",
    "print(f\"Valor máximo alcanzado: {maximo}\")\n",
    "print(f\"¿Rango completo entre mínimo y máximo?: {'Sí' if not faltantes else 'No'}\")\n",
    "if faltantes:\n",
    "    print(f\"Valores faltantes (primeros 10): {faltantes[:10]}\")\n"
   ]
  },
  {
   "cell_type": "markdown",
   "metadata": {},
   "source": [
    "Entonces se obtiene que:\n",
    " - Valor **mínimo** alcanzado: -69\n",
    " - Valor **máximo** alcanzado: 77"
   ]
  },
  {
   "cell_type": "markdown",
   "metadata": {},
   "source": [
    "## B) ¿Es posible encontrar todos los valores enteros posibles entre dicho mínimo y máximo?\n",
    "Del resultado en el punto anterior, se verifica que **SÍ** es posible encontrar todos los valores enteros entre el mínimo y el máximo"
   ]
  },
  {
   "cell_type": "markdown",
   "metadata": {},
   "source": [
    "## 1. ¿Cuántas posibilidades hay *sin tener en cuenta las restricciones*?\n",
    "\n",
    "Supongamos que **no aplicamos ninguna restricción**, es decir:\n",
    "\n",
    "- Se permiten **repeticiones de dígitos** (puedo usar el mismo dígito más de una vez),\n",
    "- Se pueden usar **cualquier combinación de operadores**, repitiéndolos si se desea,\n",
    "- No se exige usar cada operador una sola vez.\n",
    "\n",
    "Entonces:\n",
    "\n",
    "- Hay 9 posibles dígitos (del 1 al 9),\n",
    "- Usamos **5 posiciones de dígito**, con repetición permitida → \\(9^5\\) combinaciones de dígitos,\n",
    "- Hay 4 posiciones para operadores (`op1`, `op2`, `op3`, `op4`),\n",
    "- En cada una podemos poner cualquier operador entre `+ - * /` → \\(4^4\\) combinaciones de operadores.\n",
    "\n",
    "#### Cálculo:\n",
    "\n",
    "$$\n",
    "\\text{Total sin restricciones} = 9^5 \\cdot 4^4 = 59,\\!049 \\cdot 256 = \\boxed{15116544}\n",
    "$$\n",
    "\n",
    "\n",
    "---\n",
    "\n"
   ]
  },
  {
   "cell_type": "markdown",
   "metadata": {},
   "source": [
    "## 2. ¿Cuántas posibilidades hay *teniendo en cuenta todas las restricciones*?\n",
    "\n",
    "En este caso, **sí aplicamos todas las condiciones del enunciado**, que son:\n",
    "\n",
    "- Se deben usar **5 dígitos únicos**, sin repetir, elegidos del conjunto `{1, 2, ..., 9}` → combinación sin repetición.\n",
    "- Luego esos 5 dígitos se **permutan** en todas las posiciones posibles (porque el orden importa en la expresión).\n",
    "- Debemos usar exactamente **los 4 operadores básicos**, **una sola vez cada uno**, en alguna de sus permutaciones posibles.\n",
    "- Los resultados deben ser **números enteros**\n",
    "\n",
    "### Detalle del cálculo:\n",
    "\n",
    "1. **Elegir 5 dígitos distintos** de los 9 disponibles:\n",
    "   - C(9, 5) = 126\n",
    "\n",
    "2. **Permutar esos 5 dígitos**:\n",
    "   - 5! = 120\n",
    "\n",
    "3. **Permutar los 4 operadores diferentes** (uno de cada tipo):\n",
    "   - 4! = 24\n",
    "\n",
    "### Resultado:\n",
    "- Total con restricciones **sin considerar números enteros** = C(9, 5) × 5! × 4! = 126 × 120 × 24 = **362880**\n",
    "- Total con restricciones **considerando números enteros** = **90000**  (obtenido del punto A)\n"
   ]
  },
  {
   "cell_type": "code",
   "execution_count": 11,
   "metadata": {},
   "outputs": [
    {
     "name": "stdout",
     "output_type": "stream",
     "text": [
      "Total de expresiones con resultado entero: 90000\n"
     ]
    }
   ],
   "source": [
    "print(f\"Total de expresiones con resultado entero: {len(expresiones_validas)}\")"
   ]
  },
  {
   "cell_type": "markdown",
   "metadata": {
    "id": "38c-7-ejhJmA"
   },
   "source": [
    "## Modelo para el espacio de soluciones.\n",
    "## 3. ¿Cual es la estructura de datos que mejor se adapta al problema? Argumentalo.(Es posible que hayas elegido una al principio y veas la necesidad de cambiar, arguentalo)\n",
    "\n",
    "#### Elección principal: **listas (`list`) y conjuntos (`set`)**\n",
    "\n",
    "Durante el desarrollo del algoritmo, se han utilizado principalmente dos estructuras de datos fundamentales en Python:\n",
    "\n",
    "1. **Listas (`list`)**:\n",
    "   - Para representar las expresiones como secuencias ordenadas de elementos:  \n",
    "     Ejemplo: `['4', '+', '2', '-', '6', '/', '3', '*', '1']`\n",
    "   - Permiten construir dinámicamente cada expresión mediante `zip()`, concatenación y bucles.\n",
    "\n",
    "2. **Conjuntos (`set`)**:\n",
    "   - Para almacenar todos los **valores enteros únicos** obtenidos al evaluar las expresiones.\n",
    "   - Se elige `set` porque:\n",
    "     - Garantiza unicidad automáticamente (no permite duplicados),\n",
    "     - Ofrece operaciones eficientes para verificar pertenencia (`in`) y calcular el rango de resultados.\n",
    "\n",
    "Adicionalmente, para ciertos algoritmos de mejora se emplearon estructuras especializadas como colas de prioridad y se utilizaron diccionarios para organizar resultados, descartando otras opciones menos eficientes.\n",
    "\n",
    "---\n",
    "\n",
    "#### Estructura considerada inicialmente\n",
    "\n",
    "Al inicio pensé en solo usar Listas como estructura de datos para almacenar tanto número como signos me dí cuenta de que era poco manejable al tratar las restricciones de números y signos a la vez.\n",
    "\n",
    "---\n",
    "\n",
    "#### Evolución hacia evaluación progresiva\n",
    "\n",
    "Al identificar que las divisiones podían causar errores o floats no enteros, se optó por evaluar expresión por pasos, lo que requiere:\n",
    "\n",
    "- Tomar los dígitos y operadores como elementos separados (listas),\n",
    "- Aplicar operadores uno a uno (`a op b`) dentro de un bucle.\n",
    "\n",
    "Esto **reforzó la elección de listas** como estructura principal para manipular la expresión antes de evaluarla.\n",
    "\n",
    "---\n",
    "\n",
    "#### Conclusión\n",
    "\n",
    "| Necesidad                     | Estructura elegida |\n",
    "|------------------------------|--------------------|\n",
    "| Construcción de expresiones  | `list`             |\n",
    "| Evaluación controlada        | `list`             |\n",
    "| Almacenamiento de resultados | `set`              |\n",
    "| Control de unicidad          | `set`              |\n",
    "\n",
    "La elección de estas estructuras ha permitido que el algoritmo sea más claro, más controlable y más eficiente tanto en tiempo como en espacio, en comparación con trabajar directamente con strings o estructuras más complejas como árboles sintácticos (que no eran necesarios dada la ausencia de paréntesis en las operaciones).\n"
   ]
  },
  {
   "cell_type": "markdown",
   "metadata": {
    "jp-MarkdownHeadingCollapsed": true
   },
   "source": [
    "## Según el modelo para el espacio de soluciones.\n",
    "## 4. ¿Cual es la función objetivo? ¿Es un problema de maximización o minimización?\n",
    "### Función objetivo\n",
    "Este problema no se enmarca en un esquema tradicional de optimización con una función a minimizar o maximizar. Más bien, se trata de un problema de búsqueda combinatoria exhaustiva, donde el objetivo es generar todas las expresiones aritméticas válidas bajo ciertas restricciones y conservar aquellas cuyo resultado sea un número entero.\n",
    "\n",
    "#### Formulación matemática de la función objetivo\n",
    "\n",
    "Podemos representar la evaluación de cada expresión como una función:\n",
    "\n",
    "> $f(a,b,c,d,e,\\alpha, \\beta, \\gamma, \\delta) = a\\ \\alpha\\ b\\ \\beta\\ c\\ \\gamma\\ d\\ \\delta\\ e$\n",
    "\n",
    "**sujeta a:**\n",
    "\n",
    "- $a, b, c, d, e \\in \\{1,2,3,4,5,6,7,8,9\\}$, con $a \\neq b \\neq c \\neq d \\neq e$\n",
    "- $\\alpha, \\beta, \\gamma, \\delta \\in \\{+, -, *, /\\}$, con $\\alpha \\neq \\beta \\neq \\gamma \\neq \\delta$\n",
    "- Evaluación sin paréntesis, respetando la **precedencia estándar** de los operadores\n",
    "\n",
    "Y además se impone:\n",
    "\n",
    "> $f(a,b,c,d,e,\\alpha, \\beta, \\gamma, \\delta) \\in \\mathbb{Z}$\n",
    "\n",
    "Esto implica que **solo se consideran expresiones cuyo resultado sea un número entero**, descartando aquellas que produzcan fracciones.\n",
    "\n",
    "#### Enfoque práctico desde el curso\n",
    "\n",
    "Tal como se plantea en las sesiones VC2–VC5 del curso:\n",
    "\n",
    "> La función objetivo práctica es **evaluar todas las expresiones construidas bajo las restricciones** y conservar únicamente aquellas cuyo resultado pertenece a los enteros.\n",
    "\n",
    "A partir de estos resultados, se puede:\n",
    "\n",
    "- Determinar el **mínimo** y el **máximo** valor generado,\n",
    "- Verificar si el conjunto de enteros resultantes **forma un rango continuo**.\n",
    "\n",
    "Aunque no se trata de un problema típico de optimización matemática, sí se puede formalizar una función objetivo tanto **simbólica** como **algorítmica**, lo que permite analizar el espacio de soluciones, evaluar expresiones bajo restricciones estrictas, y aplicar conceptos clave del diseño de algoritmos.\n",
    "\n",
    "### ¿Es un problema de maximización o minimización?\n",
    "Este problema **no es un caso clásico de optimización**, ya que no se plantea de forma explícita una función a maximizar o minimizar bajo restricciones numéricas continuas.  \n",
    "Aunque el objetivo no se define en términos de optimización clásica, puede reinterpretarse como una función simbólica cuyos resultados se filtran por pertenencia a ℤ (los enteros), sirviendo como métrica de evaluación de la expresión."
   ]
  },
  {
   "cell_type": "markdown",
   "metadata": {},
   "source": [
    "## 5. Diseña un algoritmo para resolver el problema por fuerza bruta"
   ]
  },
  {
   "cell_type": "code",
   "execution_count": 7,
   "metadata": {},
   "outputs": [],
   "source": [
    "#Definición de cifras y operadores  \n",
    "cifras = ['1','2','3','4','5','6','7','8','9']\n",
    "operadores = ['+','-','/','*']\n",
    "\n",
    "#Cálculo de las variaciones sin repetición de una lista\n",
    "def variaciones_sin_repeticion(lista, k):\n",
    "\n",
    "  if k == 0:\n",
    "    return [[]]\n",
    "  variaciones_resultantes = []\n",
    "  for i in range(len(lista)):\n",
    "    elemento = lista[i]\n",
    "    sublista = lista[:i] + lista[i+1:]\n",
    "    variaciones = variaciones_sin_repeticion(sublista,k-1)\n",
    "    for v in variaciones:\n",
    "      variaciones_resultantes.append([elemento]+v)\n",
    "  return variaciones_resultantes\n",
    "#Cálculo de las combinaciones entre cifras y operadores  \n",
    "#Las cifras ocupan posciones impares y los operadores posiciones pares\n",
    "def combinar_numeros_signos(cifras,operadores):\n",
    "  expresion = ''\n",
    "  for i in range(len(operadores)):\n",
    "    expresion += cifras[i]\n",
    "    expresion += operadores [i]\n",
    "  expresion += cifras[-1]\n",
    "  return expresion\n",
    "\n",
    "#Para cierto valor, buscamos una expresión\n",
    "def buscar_expresion_fuerza_bruta(cifras, operadores, valor):\n",
    "  #Calculamos las variaciones sin repetición de los números y signos\n",
    "  var_numeros = variaciones_sin_repeticion(cifras,5)\n",
    "  var_signos = variaciones_sin_repeticion(operadores,4)\n",
    "\n",
    "  #Por cada variación realizamos una combinación de números y signos y comprobamos el resultado\n",
    "  for n in var_numeros:\n",
    "    for s in var_signos:\n",
    "      expresion = combinar_numeros_signos(n,s)\n",
    "      if eval(expresion) == valor:\n",
    "        return expresion\n",
    "  return ''"
   ]
  },
  {
   "cell_type": "code",
   "execution_count": 8,
   "metadata": {
    "id": "CJb5sQ0qkENy"
   },
   "outputs": [
    {
     "name": "stdout",
     "output_type": "stream",
     "text": [
      "La expresión asociada al valor 4 es:  1-2*3/6+4\n"
     ]
    }
   ],
   "source": [
    "valor = 4\n",
    "print(\"La expresión asociada al valor\", valor, \"es: \", buscar_expresion_fuerza_bruta(cifras,operadores,valor))"
   ]
  },
  {
   "cell_type": "markdown",
   "metadata": {
    "id": "9eUd3xwckP68"
   },
   "source": [
    "## 6. Calcula la complejidad del algoritmo por fuerza bruta\n",
    "\n",
    "El número total de expresiones que el algoritmo evalúa viene dado por:\n",
    "\n",
    "1. **Combinaciones de 5 dígitos únicos** tomados del conjunto {1, ..., 9}:  \n",
    "   C(9, 5) = 126\n",
    "\n",
    "2. **Permutaciones de esos 5 dígitos** (el orden importa en la expresión):  \n",
    "   5! = 120\n",
    "\n",
    "3. **Permutaciones de los 4 operadores distintos** (+, -, *, /):  \n",
    "   4! = 24\n",
    "\n",
    "\n",
    "### Complejidad asintótica:\n",
    "\n",
    "O(C(9, 5) × 5! × 4!) = **O(362,880)**  =>  **$O(n!)$.**\n",
    "\n",
    "Este valor es constante porque el conjunto de dígitos y operadores está fijo, pero el número de combinaciones sigue siendo considerable. Aun así, puede evaluarse en tiempo aceptable con un algoritmo eficiente.\n",
    "Se puede concluir que la complejidad total del algoritmo es de orden factorial **$O(n!)$.**\n",
    "\n",
    "\n"
   ]
  },
  {
   "cell_type": "markdown",
   "metadata": {
    "id": "txbrmLmskReM"
   },
   "source": [
    "## 7. Diseña un algoritmo que mejore la complejidad del algortimo por fuerza bruta. Argumenta porque crees que mejora el algoritmo por fuerza bruta"
   ]
  },
  {
   "cell_type": "markdown",
   "metadata": {},
   "source": [
    "### BACKTRACKING"
   ]
  },
  {
   "cell_type": "markdown",
   "metadata": {
    "id": "m1eyM21Vkabg"
   },
   "source": [
    "En este caso, para poder mejorar la eficiencia del algoritmo de fuerza bruta implementado anteriormente, usaremos un algoritmo de backtracking donde iremos ramificando cada uno de los números posibles para cada uno de los operadores. Podemos ver un ejemplo del árbol siguiente: \n",
    "\n",
    "\n"
   ]
  },
  {
   "cell_type": "markdown",
   "metadata": {},
   "source": [
    "                                       1\n",
    "                          ┌────────────┼────────────┬────────────┐\n",
    "                         [+]          [-]          [*]          [/]\n",
    "                         / \\           ...           ...           ...\n",
    "                       2     6\n",
    "                     /   \\\n",
    "                   [-]   [*] ...\n",
    "                  /   \\\n",
    "                 3    ...\n",
    "                  \\\n",
    "                   [*]  \n",
    "                 /  |  \\\n",
    "                4   5   6\n",
    "               /    |    \\\n",
    "             [/]    ...    ...\n",
    "            / | \\  \n",
    "           5  6  7  ...\n",
    "              "
   ]
  },
  {
   "cell_type": "markdown",
   "metadata": {},
   "source": [
    "En esta figura podemos ver como se desarrollaría el árbol para cada una de las posibilidades usando el ejemplo propuesto anteriormente de:\n",
    "\n",
    "```python\n",
    "cifras = [1, 2, 3, 4, 5, 6, 7, 8, 9]\n",
    "operadores = ['+', '-', '*', '/']\n",
    "```\n",
    "\n",
    "Para el desarrollo del algoritmo, primero iteramos sobre la lista de números (ramificamos los números), comprobamos si la expresión que ya tenemos es válida, en caso contrario añadimos un operador y volvemos a iterar sobre los números restantes haciendo una llamada recursiva a la función.\n",
    "\n",
    "En el caso de que se haya llegado al final del árbol, no se pueden utilizar más operadores se vuelve hacia atrás para probar con otra solución. Por lo tanto, esta es una estructura de backtracking."
   ]
  },
  {
   "cell_type": "code",
   "execution_count": 45,
   "metadata": {
    "id": "eGDB4K6uk1iN"
   },
   "outputs": [],
   "source": [
    "def busqueda_expresion_backtracking(expresion, numeros, operadores, valor):\n",
    "    # Ramificar para añadir una cifra a la expresión\n",
    "    for numero in numeros:\n",
    "        numeros_restantes = numeros.copy()\n",
    "        numeros_restantes.remove(numero)\n",
    "        expresion_numero = f'{expresion}{numero}'\n",
    "\n",
    "        # Comprobar si la expresión actual es una solución válida.\n",
    "        if len(expresion_numero)>0 and eval(expresion_numero) == valor and len(operadores) == 0:\n",
    "            return expresion_numero # Solución encontrada!\n",
    "\n",
    "        # Retornamos 0 si ya hemos usado todos los operadores y hemos probado todos los números posibles\n",
    "        elif len(operadores) == 0 and numero == numeros[-1]:\n",
    "            return 0\n",
    "\n",
    "        # Ramificamos para añadir un operador a la expresión\n",
    "        for operador in operadores:\n",
    "            nueva_expresion = f'{expresion_numero}{operador}'\n",
    "            operadores_restantes = operadores.copy()\n",
    "            operadores_restantes.remove(operador)\n",
    "\n",
    "            mejor_solucion = busqueda_expresion_backtracking(nueva_expresion, numeros_restantes, operadores_restantes, valor)\n",
    "\n",
    "            # En caso de tener una solución, el valor retornado será la cadena con la operación matemática\n",
    "            if mejor_solucion != 0:\n",
    "                return mejor_solucion\n",
    "    return 0"
   ]
  },
  {
   "cell_type": "code",
   "execution_count": 74,
   "metadata": {},
   "outputs": [
    {
     "name": "stdout",
     "output_type": "stream",
     "text": [
      "1+5*9-4/2\n"
     ]
    }
   ],
   "source": [
    "#Ejemplo de backtracking\n",
    "soluciones = busqueda_expresion_backtracking('',cifras,operadores,44)\n",
    "print(soluciones)"
   ]
  },
  {
   "cell_type": "markdown",
   "metadata": {},
   "source": [
    "### RAMIFICACIÓN Y PODA"
   ]
  },
  {
   "cell_type": "markdown",
   "metadata": {},
   "source": [
    "En esta implementación se utilizan ciertos patrones previamente analizados con el objetivo de obtener los valores máximo y mínimo sin necesidad de recorrer exhaustivamente todo el espacio de soluciones posibles. Para ello, se aplican reglas que permiten **descartar ramas del espacio de búsqueda** que no contribuyen a alcanzar dichos extremos.\n",
    "\n",
    "Cabe resaltar que esta optimización ha sido diseñada de forma específica para el conjunto de números y operadores considerados en este caso particular. Aún no se ha validado si esta estrategia se puede generalizar a otros conjuntos de entrada; por tanto, **no se trata de una mejora universal o generalista**. Este aspecto queda como línea futura de estudio.\n",
    "\n",
    "Por otro lado, si se profundizara el análisis de las características de las expresiones que suelen producir los valores extremos (máximos y mínimos), sería posible **reducir aún más el espacio de búsqueda**, aplicando reglas más precisas o específicas de poda."
   ]
  },
  {
   "cell_type": "code",
   "execution_count": 95,
   "metadata": {},
   "outputs": [
    {
     "name": "stdout",
     "output_type": "stream",
     "text": [
      "264\n"
     ]
    }
   ],
   "source": [
    "import itertools\n",
    "\n",
    "# Evaluar y seleccionar un subconjunto de números más prometedores\n",
    "def evaluar_numeros_candidatos(nums=('1','2','3','4','5','6','7','8','9')):\n",
    "    nums = sorted([int(n) for n in nums])\n",
    "    numeros_pares = [n for n in nums if n % 2 == 0]\n",
    "\n",
    "    candidatos = []\n",
    "    candidatos.append(nums[0])               # Agrega el menor número\n",
    "    candidatos.extend(nums[-3:])             # Agrega los 3 mayores\n",
    "    candidatos.extend(numeros_pares[:2])     # Agrega los 2 primeros pares (si existen)\n",
    "    \n",
    "    return sorted(set(candidatos))           # Elimina duplicados y ordena\n",
    "\n",
    "# Generar todas las expresiones válidas con los candidatos y operaciones\n",
    "def secuencias_operacionales_con_poda(nums=('1','2','3','4','5','6','7','8','9'), \n",
    "                                      operations=('+', '-', '/', '*')):\n",
    "    # Obtener candidatos como strings\n",
    "    nums_filtrados = tuple(str(n) for n in evaluar_numeros_candidatos(nums))\n",
    "\n",
    "    # Permutaciones de 5 cifras y de los 4 operadores\n",
    "    permutaciones_numeros = itertools.permutations(nums_filtrados, 5)\n",
    "    permutaciones_operadores = itertools.permutations(operations, 4)\n",
    "\n",
    "    expresiones_validas = []\n",
    "\n",
    "    for operadores in permutaciones_operadores:\n",
    "        for numeros in permutaciones_numeros:\n",
    "            expresion = []\n",
    "\n",
    "            # Construir la expresión alternando número-operador\n",
    "            for i in range(4):\n",
    "                expresion.append(numeros[i])\n",
    "                expresion.append(operadores[i])\n",
    "            expresion.append(numeros[-1])  # Último número\n",
    "\n",
    "            expresion_str = ''.join(expresion)\n",
    "\n",
    "            try:\n",
    "                resultado = eval(expresion_str)\n",
    "                if float(resultado).is_integer():\n",
    "                    expresiones_validas.append(expresion_str)\n",
    "            except:\n",
    "                continue  # Saltar divisiones por cero u otros errores\n",
    "\n",
    "    return expresiones_validas\n",
    "\n",
    "# Ejecución del algoritmo\n",
    "expresiones_1 = secuencias_operacionales_con_poda()\n",
    "print(len(expresiones_1))\n"
   ]
  },
  {
   "cell_type": "code",
   "execution_count": 107,
   "metadata": {},
   "outputs": [],
   "source": [
    "def buscar_expresion_por_valor_ramificacion(valor_objetivo, \n",
    "                                            nums=('1','2','3','4','5','6','7','8','9'), \n",
    "                                            operations=('+', '-', '/', '*')):\n",
    "\n",
    "    import itertools\n",
    "\n",
    "    nums = tuple([str(n) for n in evaluar_numeros_candidatos(nums)])\n",
    "\n",
    "    permuted_nums = tuple(itertools.permutations(nums, 5))\n",
    "    permuted_operations = tuple(itertools.permutations(operations, len(operations)))\n",
    "\n",
    "    for operation_sec in permuted_operations:\n",
    "        for num_sec in permuted_nums:\n",
    "\n",
    "            expresion = [None] * (len(num_sec) + len(operation_sec))\n",
    "            i = j = k = 0\n",
    "\n",
    "            while k < len(expresion):\n",
    "                if k % 2 == 0:\n",
    "                    expresion[k] = num_sec[i]\n",
    "                    i += 1\n",
    "                else:\n",
    "                    expresion[k] = operation_sec[j]\n",
    "                    j += 1\n",
    "                k += 1\n",
    "\n",
    "            expresion_str = ''.join(expresion)\n",
    "\n",
    "            try:\n",
    "                resultado = eval(expresion_str)\n",
    "                if float(resultado).is_integer() and int(resultado) == valor_objetivo:\n",
    "                    return expresion_str\n",
    "            except ZeroDivisionError:\n",
    "                continue\n",
    "            except:\n",
    "                continue\n",
    "\n",
    "    return ''  # Si no se encontró ninguna\n"
   ]
  },
  {
   "cell_type": "code",
   "execution_count": 108,
   "metadata": {},
   "outputs": [
    {
     "name": "stdout",
     "output_type": "stream",
     "text": [
      "1+7-2/4*8\n"
     ]
    }
   ],
   "source": [
    "expresion = buscar_expresion_por_valor_ramificacion(4)\n",
    "print(expresion)"
   ]
  },
  {
   "cell_type": "markdown",
   "metadata": {},
   "source": [
    "La técnica de ramificación y poda permite reducir significativamente el espacio de búsqueda al aplicar criterios previos que descartan combinaciones poco prometedoras. En este caso, se seleccionan únicamente ciertos dígitos estratégicos y se generan expresiones válidas con operadores sin repetir. Aunque esta solución no garantiza explorar todo el espacio, es eficaz para encontrar resultados extremos (máximos o mínimos) con menor costo computacional. Es una estrategia eficiente, pero especializada y dependiente del conjunto de entrada."
   ]
  },
  {
   "cell_type": "markdown",
   "metadata": {
    "id": "nREzhkStlCq8"
   },
   "source": [
    "### HEURÍSTICA"
   ]
  },
  {
   "cell_type": "markdown",
   "metadata": {},
   "source": [
    "Para resolver este problema, se plantea una heurística que mejora el enfoque de fuerza bruta, reduciendo significativamente el tiempo de búsqueda. El algoritmo emplea una cola con prioridad, donde cada nodo representa una expresión matemática parcial construida a partir de dígitos y operadores no repetidos.\n",
    "\n",
    "El proceso inicia con un nodo raíz vacío, que se encola con prioridad cero. Mientras la cola no esté vacía, se extrae el nodo con menor distancia al valor objetivo. Luego, se generan sus hijos combinando los dígitos y operadores aún disponibles. Si la longitud de la expresión es par (termina en un operador), se evalúa la parte numérica sin incluir ese último operador. Si es impar (expresión completa), se evalúa directamente.\n",
    "\n",
    "En función del resultado, si es un número entero, el hijo se encola con una prioridad basada en su distancia al objetivo. Si el resultado es decimal, se le asigna una prioridad infinita, disminuyendo así sus posibilidades de ser explorado antes.\n",
    "\n",
    "En conjunto, esta heurística mejora el rendimiento general priorizando caminos prometedores y evaluando expresiones parciales de forma anticipada, lo que permite reducir el espacio de búsqueda sin perder exactitud."
   ]
  },
  {
   "cell_type": "code",
   "execution_count": 49,
   "metadata": {},
   "outputs": [],
   "source": [
    "#import de librería de colas como estructura de datos\n",
    "import queue "
   ]
  },
  {
   "cell_type": "code",
   "execution_count": 50,
   "metadata": {},
   "outputs": [],
   "source": [
    "# Genera los hijos de un nodo actual según su longitud\n",
    "def crear_hijos(nodo, numeros, signos):\n",
    "    hijos = []  # Lista para almacenar los hijos generados\n",
    "\n",
    "    if len(nodo) % 2 == 0:\n",
    "        # Si la longitud del nodo es par, se debe agregar un número no repetido\n",
    "        for n in numeros:\n",
    "            if n not in nodo:\n",
    "                hijos.append(nodo + n)\n",
    "    else:\n",
    "        # Si la longitud es impar, se debe agregar un operador no repetido\n",
    "        for s in signos:\n",
    "            if s not in nodo:\n",
    "                hijos.append(nodo + s)\n",
    "\n",
    "    return hijos\n"
   ]
  },
  {
   "cell_type": "code",
   "execution_count": 58,
   "metadata": {},
   "outputs": [],
   "source": [
    "# Algoritmo heurístico que mejora la búsqueda por fuerza bruta\n",
    "def buscar_expresion_heuristico(numeros, signos, valor_objetivo):\n",
    "    nodo_raiz = ''  # Nodo inicial (expresión vacía)\n",
    "    nodos = queue.PriorityQueue()  # Cola con prioridad para ordenar los nodos\n",
    "    nodos.put((0, nodo_raiz))  # Inicialización del nodo raíz con prioridad 0\n",
    "\n",
    "    while not nodos.empty():\n",
    "        nodo_actual = nodos.get()  # Seleccionamos el nodo de mayor prioridad (más prometedor)\n",
    "        hijos = crear_hijos(nodo_actual[1], numeros, signos)  # Generamos los hijos del nodo actual\n",
    "\n",
    "        for h in hijos:\n",
    "            # Evaluamos la expresión según la longitud (evitamos terminar en un operador)\n",
    "            if len(h) % 2 == 0:\n",
    "                valor_hijo = eval(h[:len(h)-1])  # Si termina en operador, evaluamos sin el último carácter\n",
    "            else:\n",
    "                valor_hijo = eval(h)  # Si termina en número, evaluamos la expresión completa\n",
    "\n",
    "            # Si el valor es entero, lo agregamos con su distancia al objetivo como prioridad\n",
    "            if not isinstance(valor_hijo, float):\n",
    "                nodos.put((abs(valor_objetivo - valor_hijo), h))\n",
    "            else:\n",
    "                # Si es decimal, se agrega con prioridad infinita (baja prioridad)\n",
    "                nodos.put((float('inf'), h))\n",
    "\n",
    "            # Si la expresión está completa y coincide con el valor deseado, se retorna como solución\n",
    "            if len(h) == len(numeros) and valor_hijo == valor_objetivo:\n",
    "                return h\n",
    "\n",
    "    return ''  # Si no se encuentra solución"
   ]
  },
  {
   "cell_type": "code",
   "execution_count": 59,
   "metadata": {},
   "outputs": [],
   "source": [
    "numeros = ['1','2','3','4','5','6','7','8','9']\n",
    "signos = ['+','-','/','*']"
   ]
  },
  {
   "cell_type": "code",
   "execution_count": 60,
   "metadata": {
    "scrolled": true
   },
   "outputs": [
    {
     "name": "stdout",
     "output_type": "stream",
     "text": [
      "La expresión asociada al valor -69 es:  1-9*8+4/2\n",
      "La expresión asociada al valor -68 es:  1-9*8+6/2\n",
      "La expresión asociada al valor -67 es:  2-9*8+3/1\n",
      "La expresión asociada al valor -66 es:  2-9*8+4/1\n",
      "La expresión asociada al valor -65 es:  2-9*8+5/1\n",
      "La expresión asociada al valor -64 es:  2-9*8+6/1\n",
      "La expresión asociada al valor -63 es:  2-9*8+7/1\n",
      "La expresión asociada al valor -62 es:  3-9*8+7/1\n",
      "La expresión asociada al valor -61 es:  4-9*8+7/1\n",
      "La expresión asociada al valor -60 es:  1-9*7+4/2\n",
      "La expresión asociada al valor -59 es:  1-9*7+6/2\n",
      "La expresión asociada al valor -58 es:  1-9*7+8/2\n",
      "La expresión asociada al valor -57 es:  2-9*7+4/1\n",
      "La expresión asociada al valor -56 es:  2-9*7+5/1\n",
      "La expresión asociada al valor -55 es:  2-9*7+6/1\n",
      "La expresión asociada al valor -54 es:  3-9*7+6/1\n",
      "La expresión asociada al valor -53 es:  1-8*7+4/2\n",
      "La expresión asociada al valor -52 es:  1-8*7+6/2\n",
      "La expresión asociada al valor -51 es:  1-9*6+4/2\n",
      "La expresión asociada al valor -50 es:  2-9*6+8/4\n",
      "La expresión asociada al valor -49 es:  1-9*6+8/2\n",
      "La expresión asociada al valor -48 es:  2-9*6+4/1\n",
      "La expresión asociada al valor -47 es:  2-9*6+5/1\n",
      "La expresión asociada al valor -46 es:  3-9*6+5/1\n",
      "La expresión asociada al valor -45 es:  1-8*6+4/2\n",
      "La expresión asociada al valor -44 es:  1-8*6+9/3\n",
      "La expresión asociada al valor -43 es:  2-8*6+3/1\n",
      "La expresión asociada al valor -42 es:  1-9*5+4/2\n",
      "La expresión asociada al valor -41 es:  1-9*5+6/2\n",
      "La expresión asociada al valor -40 es:  1-9*5+8/2\n",
      "La expresión asociada al valor -39 es:  1-7*6+4/2\n",
      "La expresión asociada al valor -38 es:  1-7*6+9/3\n",
      "La expresión asociada al valor -37 es:  1-8*5+4/2\n",
      "La expresión asociada al valor -36 es:  1-8*5+6/2\n",
      "La expresión asociada al valor -35 es:  2-9*5+8/1\n",
      "La expresión asociada al valor -34 es:  2-8*5+4/1\n",
      "La expresión asociada al valor -33 es:  1-9*4+6/3\n",
      "La expresión asociada al valor -32 es:  1-9*4+6/2\n",
      "La expresión asociada al valor -31 es:  1-9*4+8/2\n",
      "La expresión asociada al valor -30 es:  1-7*5+8/2\n",
      "La expresión asociada al valor -29 es:  1-8*4+6/3\n",
      "La expresión asociada al valor -28 es:  1-8*4+6/2\n",
      "La expresión asociada al valor -27 es:  1-6*5+4/2\n",
      "La expresión asociada al valor -26 es:  1-6*5+9/3\n",
      "La expresión asociada al valor -25 es:  1-7*4+6/3\n",
      "La expresión asociada al valor -24 es:  1-9*3+4/2\n",
      "La expresión asociada al valor -23 es:  1-9*3+6/2\n",
      "La expresión asociada al valor -22 es:  1-9*3+8/2\n",
      "La expresión asociada al valor -21 es:  1-8*3+4/2\n",
      "La expresión asociada al valor -20 es:  1-8*3+6/2\n",
      "La expresión asociada al valor -19 es:  1-6*4+8/2\n",
      "La expresión asociada al valor -18 es:  1-7*3+4/2\n",
      "La expresión asociada al valor -17 es:  1-7*3+6/2\n",
      "La expresión asociada al valor -16 es:  1-7*3+8/2\n",
      "La expresión asociada al valor -15 es:  1-9*2+6/3\n",
      "La expresión asociada al valor -14 es:  2-7*3+5/1\n",
      "La expresión asociada al valor -13 es:  1-8*2+6/3\n",
      "La expresión asociada al valor -12 es:  1-8*2+9/3\n",
      "La expresión asociada al valor -11 es:  1-7*2+6/3\n",
      "La expresión asociada al valor -10 es:  1-5*3+8/2\n",
      "La expresión asociada al valor -9 es:  1-6*2+8/4\n",
      "La expresión asociada al valor -8 es:  1-4*3+6/2\n",
      "La expresión asociada al valor -7 es:  1-4*3+8/2\n",
      "La expresión asociada al valor -6 es:  1-8+2*3/6\n",
      "La expresión asociada al valor -5 es:  1-2*4+6/3\n",
      "La expresión asociada al valor -4 es:  1*2-8+6/3\n",
      "La expresión asociada al valor -3 es:  1*2-7+6/3\n",
      "La expresión asociada al valor -2 es:  1*3-7+4/2\n",
      "La expresión asociada al valor -1 es:  1*2-5+6/3\n",
      "La expresión asociada al valor 0 es:  1*3-5+4/2\n",
      "La expresión asociada al valor 1 es:  1*3-5+6/2\n",
      "La expresión asociada al valor 2 es:  1*3-4+6/2\n",
      "La expresión asociada al valor 3 es:  1*6-5+4/2\n",
      "La expresión asociada al valor 4 es:  5*1-3+4/2\n",
      "La expresión asociada al valor 5 es:  6*1-3+4/2\n",
      "La expresión asociada al valor 6 es:  5*1+3-4/2\n",
      "La expresión asociada al valor 7 es:  6*1+3-4/2\n",
      "La expresión asociada al valor 8 es:  7*1+3-4/2\n",
      "La expresión asociada al valor 9 es:  8*1+3-4/2\n",
      "La expresión asociada al valor 10 es:  9*1+3-4/2\n",
      "La expresión asociada al valor 11 es:  8*1+5-4/2\n",
      "La expresión asociada al valor 12 es:  9*1+5-4/2\n",
      "La expresión asociada al valor 13 es:  9*1+6-4/2\n",
      "La expresión asociada al valor 14 es:  9*2-7+3/1\n",
      "La expresión asociada al valor 15 es:  9*2-6+3/1\n",
      "La expresión asociada al valor 16 es:  9*2-5+3/1\n",
      "La expresión asociada al valor 17 es:  9*2-4+3/1\n",
      "La expresión asociada al valor 18 es:  9+6*2-3/1\n",
      "La expresión asociada al valor 19 es:  9*2+4-3/1\n",
      "La expresión asociada al valor 20 es:  9*2+5-3/1\n",
      "La expresión asociada al valor 21 es:  9*2+6-3/1\n",
      "La expresión asociada al valor 22 es:  9*2+7-3/1\n",
      "La expresión asociada al valor 23 es:  9*3-6+2/1\n",
      "La expresión asociada al valor 24 es:  9*3-5+2/1\n",
      "La expresión asociada al valor 25 es:  9*3-4+2/1\n",
      "La expresión asociada al valor 26 es:  9*3+1-4/2\n",
      "La expresión asociada al valor 27 es:  9*3+4-8/2\n",
      "La expresión asociada al valor 28 es:  9*3-1+4/2\n",
      "La expresión asociada al valor 29 es:  9*3+4-2/1\n",
      "La expresión asociada al valor 30 es:  9*3+5-2/1\n",
      "La expresión asociada al valor 31 es:  9*3+6-2/1\n",
      "La expresión asociada al valor 32 es:  9*4-6+2/1\n",
      "La expresión asociada al valor 33 es:  9*4-5+2/1\n",
      "La expresión asociada al valor 34 es:  9*4+1-6/2\n",
      "La expresión asociada al valor 35 es:  9*4-3+2/1\n",
      "La expresión asociada al valor 36 es:  9*4+3-6/2\n",
      "La expresión asociada al valor 37 es:  9*4+3-2/1\n",
      "La expresión asociada al valor 38 es:  9*4+5-3/1\n",
      "La expresión asociada al valor 39 es:  9*4+5-2/1\n",
      "La expresión asociada al valor 40 es:  9*4+6-2/1\n",
      "La expresión asociada al valor 41 es:  9*5-6+2/1\n",
      "La expresión asociada al valor 42 es:  9*5-6+3/1\n",
      "La expresión asociada al valor 43 es:  9*5-4+2/1\n",
      "La expresión asociada al valor 44 es:  9*5+1-4/2\n",
      "La expresión asociada al valor 45 es:  9*5+3-6/2\n",
      "La expresión asociada al valor 46 es:  9*5+3-2/1\n",
      "La expresión asociada al valor 47 es:  9*5+4-2/1\n",
      "La expresión asociada al valor 48 es:  9*5+6-3/1\n",
      "La expresión asociada al valor 49 es:  9*5+6-2/1\n",
      "La expresión asociada al valor 50 es:  9*6-7+3/1\n",
      "La expresión asociada al valor 51 es:  9*6-5+2/1\n",
      "La expresión asociada al valor 52 es:  9*6-4+2/1\n",
      "La expresión asociada al valor 53 es:  9*6+1-4/2\n",
      "La expresión asociada al valor 54 es:  9*6+4-8/2\n",
      "La expresión asociada al valor 55 es:  9*6+3-2/1\n",
      "La expresión asociada al valor 56 es:  9*6+4-2/1\n",
      "La expresión asociada al valor 57 es:  9*6+5-2/1\n",
      "La expresión asociada al valor 58 es:  9*6+7-3/1\n",
      "La expresión asociada al valor 59 es:  9*7-6+2/1\n",
      "La expresión asociada al valor 60 es:  9*7-5+2/1\n",
      "La expresión asociada al valor 61 es:  9*7-4+2/1\n",
      "La expresión asociada al valor 62 es:  9*7+1-4/2\n",
      "La expresión asociada al valor 63 es:  9*7+3-6/2\n",
      "La expresión asociada al valor 64 es:  9*7+3-2/1\n",
      "La expresión asociada al valor 65 es:  9*7+4-2/1\n",
      "La expresión asociada al valor 66 es:  9*7+5-2/1\n",
      "La expresión asociada al valor 67 es:  9*7+6-2/1\n",
      "La expresión asociada al valor 68 es:  9*8-6+2/1\n",
      "La expresión asociada al valor 69 es:  9*8-5+2/1\n",
      "La expresión asociada al valor 70 es:  9*8-4+2/1\n",
      "La expresión asociada al valor 71 es:  9*8+1-4/2\n",
      "La expresión asociada al valor 72 es:  9*8+3-6/2\n",
      "La expresión asociada al valor 73 es:  9*8+3-2/1\n",
      "La expresión asociada al valor 74 es:  9*8+4-2/1\n",
      "La expresión asociada al valor 75 es:  9*8+5-2/1\n",
      "La expresión asociada al valor 76 es:  9*8+6-2/1\n",
      "La expresión asociada al valor 77 es:  9*8+7-2/1\n"
     ]
    }
   ],
   "source": [
    "#Heurística total:\n",
    "for i in range(int(minimo), int(maximo)+1):\n",
    "  print(\"La expresión asociada al valor\", i, \"es: \", buscar_expresion_heuristico(numeros,signos,i))"
   ]
  },
  {
   "cell_type": "markdown",
   "metadata": {},
   "source": [
    "La heurística implementada representa una mejora significativa respecto al enfoque por fuerza bruta, ya que reduce la cantidad de nodos que es necesario explorar para encontrar una solución válida. Mientras que el algoritmo de fuerza bruta examina exhaustivamente todas las combinaciones posibles de cifras y operadores —lo que puede resultar costoso en términos de tiempo—, la heurística prioriza los nodos más prometedores y retrasa o descarta aquellos que tienen menor probabilidad de conducir a una solución.\n",
    "\n",
    "En particular, los nodos que generan resultados poco útiles (como números decimales) son enviados a la cola con prioridad infinita, lo que disminuye su importancia en el orden de evaluación. Esto permite concentrar los recursos computacionales en rutas más efectivas, acelerando el proceso de búsqueda.\n",
    "\n",
    "Asimismo, la evaluación anticipada de las expresiones permite identificar y filtrar de forma temprana aquellas ramas que no producirán resultados enteros, evitando así expandir nodos irrelevantes. En conjunto, esta estrategia mejora el rendimiento general del algoritmo, disminuyendo el tiempo requerido para encontrar una solución sin sacrificar exhaustividad."
   ]
  },
  {
   "cell_type": "code",
   "execution_count": 98,
   "metadata": {},
   "outputs": [],
   "source": [
    "#importamos la librería time para poder señalar marcas de tiempo\n",
    "import time"
   ]
  },
  {
   "cell_type": "code",
   "execution_count": 99,
   "metadata": {},
   "outputs": [],
   "source": [
    "#establecemos un valor cualquiera\n",
    "valor = 44"
   ]
  },
  {
   "cell_type": "code",
   "execution_count": 100,
   "metadata": {},
   "outputs": [
    {
     "name": "stdout",
     "output_type": "stream",
     "text": [
      "[Fuerza Bruta] f(x) = 44 → 1-4/2+5*9 | Tiempo: 0.24588608741760254 segundos\n"
     ]
    }
   ],
   "source": [
    "#calculamos lo que toma a Fuerza Bruta calcular la expresión correcta\n",
    "start = time.time()\n",
    "expresion = buscar_expresion_FB(cifras, operadores, valor)\n",
    "end = time.time()\n",
    "metodo = \"Fuerza Bruta\"\n",
    "print(f\"[{metodo}] f(x) = {valor} → {expresion} | Tiempo: {end - start} segundos\")\n"
   ]
  },
  {
   "cell_type": "code",
   "execution_count": 112,
   "metadata": {},
   "outputs": [
    {
     "name": "stdout",
     "output_type": "stream",
     "text": [
      "[Ramificación y Poda] f(x) = 44 →  | Tiempo: 0.2779998779296875 segundos\n"
     ]
    }
   ],
   "source": [
    "#calculamos lo que toma a Ramificación y Poda calcular la expresión correcta\n",
    "start = time.time()\n",
    "expresion = buscar_expresion_por_valor_ramificacion(valor,numeros,signos)\n",
    "end = time.time()\n",
    "metodo = \"Ramificación y Poda\"    \n",
    "print(f\"[{metodo}] f(x) = {valor} → {expresion} | Tiempo: {end - start} segundos\")\n"
   ]
  },
  {
   "cell_type": "code",
   "execution_count": 113,
   "metadata": {},
   "outputs": [
    {
     "name": "stdout",
     "output_type": "stream",
     "text": [
      "[Backtracking] f(x) = 44 → 1+5*9-4/2 | Tiempo: 0.0743098258972168 segundos\n"
     ]
    }
   ],
   "source": [
    "#calculamos lo que toma a Backtracking calcular la expresión correcta\n",
    "start = time.time()\n",
    "expresion= busqueda_expresion_backtracking('',cifras, operadores, valor)\n",
    "end = time.time()\n",
    "metodo = \"Backtracking\"\n",
    "print(f\"[{metodo}] f(x) = {valor} → {expresion} | Tiempo: {end - start} segundos\")\n"
   ]
  },
  {
   "cell_type": "code",
   "execution_count": 114,
   "metadata": {},
   "outputs": [
    {
     "name": "stdout",
     "output_type": "stream",
     "text": [
      "[Heurística] f(x) = 44 → 9*5+1-4/2 | Tiempo: 0.003032207489013672 segundos\n"
     ]
    }
   ],
   "source": [
    "#calculamos lo que toma a Heuritico calcular la expresión correcta\n",
    "start = time.time()\n",
    "expresion = buscar_expresion_heuristico(numeros,signos,valor)\n",
    "end = time.time()\n",
    "metodo = \"Heurística\"\n",
    "print(f\"[{metodo}] f(x) = {valor} → {expresion} | Tiempo: {end - start} segundos\")"
   ]
  },
  {
   "cell_type": "markdown",
   "metadata": {},
   "source": [
    "## 8. Calcula la complejidad del algoritmo\n",
    "\n",
    " "
   ]
  },
  {
   "cell_type": "markdown",
   "metadata": {},
   "source": [
    "### RAMIFICACIÓN Y PODA\n",
    "\n",
    "Gracias a esta estrategia de ramificación y poda basada en patrones, el algoritmo no escala en complejidad con el número total de cifras disponibles, ya que selecciona una cantidad fija de dígitos —denotada como `a`— para construir las expresiones. Por tanto, el número de combinaciones de cifras es constante en esta implementación.\n",
    "\n",
    "Sin embargo, la complejidad sigue estando influenciada por la cantidad de operadores aritméticos disponibles (`n`). Dado que se generan todas las permutaciones posibles de estos operadores, el crecimiento sigue siendo factorial en `n`**, aunque en la práctica solo se usan los operadores `+`, `-`, `*` y `/`.\n",
    "\n",
    "Asumiendo que:\n",
    "- `a` = cantidad fija de dígitos seleccionados (constante),\n",
    "- `n` = número de operadores distintos disponibles (variable),\n",
    "\n",
    "Entonces, la complejidad del algoritmo se puede expresar como: **$O(a \\cdot n!)$** en función del número de operadores.\n"
   ]
  },
  {
   "cell_type": "markdown",
   "metadata": {},
   "source": [
    "### BACKTRACKING\n",
    "\n",
    "La complejidad de este algoritmo en este caso va a depender obviamente del tamaño del espacio de búsqueda. En este caso tenemos el conjunto de números y operadores.\n",
    "\n",
    "Suponiendo que tenemos N números y M operadores, en el peor de los casos, el algoritmo debe explorar todo el espacio de búsqueda, lo que implica visitar cada nodo del árbol de backtracking. Por lo tanto, la complejidad del algoritmo de backtracking es exponencial en el peor de los casos, $O(N^M)$ o $O(2^n)$."
   ]
  },
  {
   "cell_type": "markdown",
   "metadata": {},
   "source": [
    "### HEURÍSTICA\n",
    "\n",
    "Al tratarse de una heurística, la complejidad no se puede calcular de forma directa. Las heurísticas son métodos aproximados que se utilizan para resolver problemas cuando no es posible encontrar una solución exacta en tiempo razonable. Las heurísticas se basan en la intuición y no se pueden analizar de la misma manera que los algoritmos exactos. En lugar de hablar de complejidad, es más común hablar de la calidad en relación al tiempo y espacio utilizado. En el punto anterior se puede ver como la heurística mejora los tiempos con respecto a fuerza bruta."
   ]
  },
  {
   "cell_type": "markdown",
   "metadata": {
    "id": "3M6QjTsSkmYe"
   },
   "source": [
    "## 9. Según el problema (y tenga sentido), diseña un juego de datos de entrada aleatorios. Aplica el algoritmo al juego de datos generado"
   ]
  },
  {
   "cell_type": "code",
   "execution_count": 77,
   "metadata": {
    "id": "sJ-N2etjkyWc"
   },
   "outputs": [],
   "source": [
    "#import para aleatoreidad\n",
    "import random"
   ]
  },
  {
   "cell_type": "code",
   "execution_count": 78,
   "metadata": {},
   "outputs": [
    {
     "data": {
      "text/plain": [
       "[29, 72, 63, -68, -16]"
      ]
     },
     "execution_count": 78,
     "metadata": {},
     "output_type": "execute_result"
    }
   ],
   "source": [
    "#Generamos unos datos de entrada aleatorios: Números enteros entre el máximo y el mínimo\n",
    "datos_aleatorios = []\n",
    "num_datos = 5\n",
    "\n",
    "for i in range(num_datos):\n",
    "  datos_aleatorios.append(random.randint(minimo,maximo))\n",
    "\n",
    "datos_aleatorios"
   ]
  },
  {
   "cell_type": "code",
   "execution_count": 115,
   "metadata": {},
   "outputs": [
    {
     "name": "stdout",
     "output_type": "stream",
     "text": [
      "--------------------------------------------------\n",
      "[Fuerza Bruta] f(x) = 44 → 1-4/2+5*6 | Tiempo: 0.2510676383972168 segundos\n",
      "[Ramificación y Poda] f(x) = 44 → 9+4/1*7-8 | Tiempo: 0.06555318832397461 segundos\n",
      "[Backtracking] f(x) = 44 → 1+5*6-4/2 | Tiempo: 0.06959843635559082 segundos\n",
      "[Heurística]   f(x) = 44 → 9*3+4-2/1 | Tiempo: 0.0014529228210449219 segundos\n",
      "--------------------------------------------------\n",
      "[Fuerza Bruta] f(x) = 44 → 2-6/3+8*9 | Tiempo: 0.7572181224822998 segundos\n",
      "[Ramificación y Poda] f(x) = 44 →  | Tiempo: 0.22646331787109375 segundos\n",
      "[Backtracking] f(x) = 44 → 2+8*9-6/3 | Tiempo: 0.6793034076690674 segundos\n",
      "[Heurística]   f(x) = 44 → 9*8+3-6/2 | Tiempo: 0.002714395523071289 segundos\n",
      "--------------------------------------------------\n",
      "[Fuerza Bruta] f(x) = 44 → 2-6/3+7*9 | Tiempo: 0.7489900588989258 segundos\n",
      "[Ramificación y Poda] f(x) = 44 → 9+7/1*8-2 | Tiempo: 0.0344085693359375 segundos\n",
      "[Backtracking] f(x) = 44 → 2+7*9-6/3 | Tiempo: 0.661017894744873 segundos\n",
      "[Heurística]   f(x) = 44 → 9*7+3-6/2 | Tiempo: 0.0027251243591308594 segundos\n",
      "--------------------------------------------------\n",
      "[Fuerza Bruta] f(x) = 44 → 1+6/2-8*9 | Tiempo: 0.25542569160461426 segundos\n",
      "[Ramificación y Poda] f(x) = 44 →  | Tiempo: 0.21953916549682617 segundos\n",
      "[Backtracking] f(x) = 44 → 1+6/2-8*9 | Tiempo: 0.07500839233398438 segundos\n",
      "[Heurística]   f(x) = 44 → 1-9*8+6/2 | Tiempo: 0.001047372817993164 segundos\n",
      "--------------------------------------------------\n",
      "[Fuerza Bruta] f(x) = 44 → 1+3-5/2*8 | Tiempo: 0.09659361839294434 segundos\n",
      "[Ramificación y Poda] f(x) = 44 → 7+9-4/1*8 | Tiempo: 0.0058553218841552734 segundos\n",
      "[Backtracking] f(x) = 44 → 1+3-5/2*8 | Tiempo: 0.017506122589111328 segundos\n",
      "[Heurística]   f(x) = 44 → 1-7*3+8/2 | Tiempo: 0.0035283565521240234 segundos\n"
     ]
    }
   ],
   "source": [
    "for dato in datos_aleatorios:\n",
    "  print(\"--------------------------------------------------\")\n",
    "\n",
    "  start = time.time()\n",
    "  expresion = buscar_expresion_FB(numeros,signos,dato)\n",
    "  end = time.time()\n",
    "  metodo = \"Fuerza Bruta\"\n",
    "  print(f\"[{metodo}] f(x) = {valor} → {expresion} | Tiempo: {end - start} segundos\")\n",
    "\n",
    "  start = time.time()\n",
    "  expresion = buscar_expresion_por_valor_ramificacion(dato, numeros,signos)\n",
    "  end = time.time()\n",
    "  metodo = \"Ramificación y Poda\"    \n",
    "  print(f\"[{metodo}] f(x) = {valor} → {expresion} | Tiempo: {end - start} segundos\")\n",
    "    \n",
    "  start = time.time()\n",
    "  expresion = busqueda_expresion_backtracking('', numeros,signos,dato)\n",
    "  end = time.time()\n",
    "  metodo = \"Backtracking\"    \n",
    "  print(f\"[{metodo}] f(x) = {valor} → {expresion} | Tiempo: {end - start} segundos\")\n",
    "\n",
    "  start = time.time()\n",
    "  expresion = buscar_expresion_heuristico(numeros,signos,dato)\n",
    "  end = time.time()\n",
    "  metodo = \"Heurística\"  \n",
    "  print(f\"[{metodo}]   f(x) = {valor} → {expresion} | Tiempo: {end - start} segundos\")\n",
    "\n"
   ]
  },
  {
   "cell_type": "markdown",
   "metadata": {
    "id": "eTFWUJQrtGcv"
   },
   "source": [
    "## 10. Enumera las referencias que has utilizado(si ha sido necesario) para llevar a cabo el trabajo"
   ]
  },
  {
   "cell_type": "markdown",
   "metadata": {
    "id": "YKQ_mRBttWsP"
   },
   "source": [
    "## Referencias\n",
    "\n",
    "- Cormen, T. H., Leiserson, C. E., Rivest, R. L., & Stein, C. (2009). *Introduction to algorithms* (3rd ed.). MIT Press.\n",
    "\n",
    "- Skiena, S. S. (2008). *The algorithm design manual* (2nd ed.). Springer.\n",
    "\n",
    "- SymPy Development Team. (n.d.). *SymPy: Python library for symbolic mathematics*. https://docs.sympy.org/latest/index.html\n",
    "\n",
    "- Python Software Foundation. (n.d.). *Operator precedence*. In *Python 3 documentation*. https://docs.python.org/3/reference/expressions.html#operator-precedence\n",
    "\n",
    "- Diapositivas de clase\n"
   ]
  },
  {
   "cell_type": "markdown",
   "metadata": {
    "id": "kAkDPUyRtYyH"
   },
   "source": [
    "## 11. Describe brevemente las lineas de como crees que es posible avanzar en el estudio del problema. Ten en cuenta incluso posibles variaciones del problema y/o variaciones al alza del tamaño"
   ]
  },
  {
   "cell_type": "markdown",
   "metadata": {},
   "source": [
    "## Líneas de avance en el estudio del problema\n",
    "\n",
    "A medida que aumenta el tamaño del espacio de búsqueda —ya sea por la inclusión de más dígitos, más operadores o reglas más flexibles— el enfoque por fuerza bruta se vuelve rápidamente ineficiente. Por ello, es necesario explorar técnicas que permitan reducir el costo computacional mediante una búsqueda más inteligente y estructurada.\n",
    "\n",
    "Durante el desarrollo de este trabajo, se han aplicado cuatro enfoques principales: **fuerza bruta**, **ramificación y poda** **backtracking** y una **heurística basada en prioridad**. Cada uno permitió obtener mejores resultados en términos de eficiencia frente al crecimiento del problema.\n",
    "\n",
    "### Posibles caminos de mejora\n",
    "\n",
    "1. **Optimización del espacio de búsqueda**  \n",
    "   Mediante poda temprana y ordenación inteligente de los nodos, es posible evitar evaluar expresiones que, por su estructura, no podrán generar una solución válida. Este principio se puede extender a través de algoritmos como ramificación y poda, cuidando especialmente los casos donde el orden de operadores puede afectar significativamente el resultado.\n",
    "\n",
    "2. **Variaciones del problema**  \n",
    "   El problema puede ampliarse o modificarse para aumentar su complejidad:\n",
    "   - Permitir la repetición de dígitos u operadores.\n",
    "   - Aumentar el conjunto de operadores (por ejemplo, incluir potencias o módulo).\n",
    "   - Permitir el uso de paréntesis o la concatenación de dígitos para formar números más grandes.\n",
    "\n",
    "3. **Variación del objetivo**  \n",
    "   En lugar de buscar una única expresión que genere un número específico, se puede plantear:\n",
    "   - Encontrar todas las expresiones posibles que generen dicho número.\n",
    "   - Determinar si se puede cubrir un rango completo de enteros (como se resolvió con backtracking).\n",
    "   - Buscar expresiones que maximicen o minimicen el valor bajo restricciones más generales.\n",
    "\n",
    "4. **Aplicación de heurísticas más sofisticadas**  \n",
    "   Técnicas heurísticas permiten reducir el espacio de búsqueda priorizando ramas prometedoras. Este enfoque puede mejorarse con:\n",
    "   - Funciones de evaluación más informadas.\n",
    "   - Métodos como best-first search, beam search, o incluso A\\* si se define un buen heurístico admisible.\n",
    "\n",
    "5. **Implementación de algoritmos avanzados**  \n",
    "   Además de lo revisado, se podrían explorar:\n",
    "   - Algoritmos genéticos, que pueden explorar espacios grandes generando soluciones aproximadas.\n",
    "   - Métodos de aprendizaje automático, para predecir qué combinaciones tienen mayor probabilidad de éxito.\n",
    "\n",
    "### Conclusión\n",
    "\n",
    "Avanzar en el estudio de este problema requiere un análisis profundo del espacio de soluciones y de las restricciones impuestas. A través de la incorporación de nuevas reglas, objetivos alternativos y técnicas más avanzadas, es posible ampliar significativamente el alcance del problema, así como mejorar la eficiencia de su resolución.\n"
   ]
  }
 ],
 "metadata": {
  "colab": {
   "provenance": []
  },
  "kernelspec": {
   "display_name": "Python 3 (ipykernel)",
   "language": "python",
   "name": "python3"
  },
  "language_info": {
   "codemirror_mode": {
    "name": "ipython",
    "version": 3
   },
   "file_extension": ".py",
   "mimetype": "text/x-python",
   "name": "python",
   "nbconvert_exporter": "python",
   "pygments_lexer": "ipython3",
   "version": "3.13.5"
  }
 },
 "nbformat": 4,
 "nbformat_minor": 4
}
